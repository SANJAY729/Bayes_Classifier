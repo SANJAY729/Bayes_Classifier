{
  "nbformat": 4,
  "nbformat_minor": 0,
  "metadata": {
    "colab": {
      "name": "NaiveBayes.ipynb",
      "provenance": [],
      "collapsed_sections": []
    },
    "kernelspec": {
      "name": "python3",
      "display_name": "Python 3"
    }
  },
  "cells": [
    {
      "cell_type": "code",
      "metadata": {
        "id": "rvENABU-ZmOZ"
      },
      "source": [
        "import pandas as pd\n",
        "import csv"
      ],
      "execution_count": null,
      "outputs": []
    },
    {
      "cell_type": "code",
      "metadata": {
        "id": "VsOQfuT1O6qx"
      },
      "source": [
        "dataset=pd.read_csv('Train_E.csv')\n"
      ],
      "execution_count": null,
      "outputs": []
    }
  ]
}