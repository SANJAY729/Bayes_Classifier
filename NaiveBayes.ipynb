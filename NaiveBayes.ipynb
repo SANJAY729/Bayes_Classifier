{
  "nbformat": 4,
  "nbformat_minor": 0,
  "metadata": {
    "colab": {
      "name": "NaiveBayes.ipynb",
      "provenance": [],
      "collapsed_sections": []
    },
    "kernelspec": {
      "name": "python3",
      "display_name": "Python 3"
    }
  },
  "cells": [
    {
      "cell_type": "code",
      "metadata": {
        "id": "rvENABU-ZmOZ"
      },
      "source": [
        "import numpy as np\n",
        "import pandas as pd\n",
        "import csv\n",
        "import copy\n",
        "from pprint import pprint\n",
        "from math import *\n",
        "import matplotlib.pyplot as plt\n",
        "from sklearn import decomposition\n",
        "from sklearn import preprocessing"
      ],
      "execution_count": 24,
      "outputs": []
    },
    {
      "cell_type": "code",
      "metadata": {
        "id": "VsOQfuT1O6qx",
        "outputId": "be111e97-598a-4dda-f439-847ab22ba074",
        "colab": {
          "base_uri": "https://localhost:8080/",
          "height": 241
        }
      },
      "source": [
        "dataset = pd.read_csv('Train_E.csv')\n",
        "#handling missing values...\n",
        "dataset = dataset.fillna(dataset.mean())\n",
        "\n",
        "#kicking date...\n",
        "dataset = dataset.drop(['date'], axis = 1)\n",
        "\n",
        "#one hot encoding for categorical columns (iso_code, continent, location)...\n",
        "dummy_iso_code = pd.get_dummies(dataset['iso_code'], prefix = \"iso_code\")\n",
        "dummy_continent = pd.get_dummies(dataset['continent'], prefix = \"continent\")\n",
        "dummy_location = pd.get_dummies(dataset['location'], prefix = \"location\")\n",
        "dataset = pd.concat([dummy_location, dataset], axis = 1)\n",
        "dataset = pd.concat([dummy_continent, dataset], axis = 1)\n",
        "dataset = pd.concat([dummy_iso_code, dataset], axis = 1)\n",
        "dataset = dataset.drop(['iso_code', 'continent', 'location'], axis = 1)\n",
        "\n",
        "#normalizing data...\n",
        "x = dataset.values \n",
        "min_max_scaler = preprocessing.MinMaxScaler()\n",
        "x_scaled = min_max_scaler.fit_transform(x)\n",
        "pd.DataFrame()\n",
        "dataset = pd.DataFrame(data = x_scaled, columns = dataset.columns)\n",
        "dataset.head()"
      ],
      "execution_count": 25,
      "outputs": [
        {
          "output_type": "execute_result",
          "data": {
            "text/html": [
              "<div>\n",
              "<style scoped>\n",
              "    .dataframe tbody tr th:only-of-type {\n",
              "        vertical-align: middle;\n",
              "    }\n",
              "\n",
              "    .dataframe tbody tr th {\n",
              "        vertical-align: top;\n",
              "    }\n",
              "\n",
              "    .dataframe thead th {\n",
              "        text-align: right;\n",
              "    }\n",
              "</style>\n",
              "<table border=\"1\" class=\"dataframe\">\n",
              "  <thead>\n",
              "    <tr style=\"text-align: right;\">\n",
              "      <th></th>\n",
              "      <th>iso_code_ABW</th>\n",
              "      <th>iso_code_AFG</th>\n",
              "      <th>iso_code_AGO</th>\n",
              "      <th>iso_code_ALB</th>\n",
              "      <th>iso_code_ARE</th>\n",
              "      <th>continent_Africa</th>\n",
              "      <th>continent_Asia</th>\n",
              "      <th>continent_Europe</th>\n",
              "      <th>continent_North America</th>\n",
              "      <th>location_Afghanistan</th>\n",
              "      <th>location_Albania</th>\n",
              "      <th>location_Angola</th>\n",
              "      <th>location_Aruba</th>\n",
              "      <th>location_United Arab Emirates</th>\n",
              "      <th>total_cases</th>\n",
              "      <th>new_cases</th>\n",
              "      <th>new_cases_smoothed</th>\n",
              "      <th>total_deaths</th>\n",
              "      <th>new_deaths</th>\n",
              "      <th>new_deaths_smoothed</th>\n",
              "      <th>total_cases_per_million</th>\n",
              "      <th>new_cases_per_million</th>\n",
              "      <th>new_cases_smoothed_per_million</th>\n",
              "      <th>total_deaths_per_million</th>\n",
              "      <th>new_deaths_per_million</th>\n",
              "      <th>new_deaths_smoothed_per_million</th>\n",
              "      <th>stringency_index</th>\n",
              "      <th>population</th>\n",
              "      <th>population_density</th>\n",
              "      <th>median_age</th>\n",
              "      <th>aged_65_older</th>\n",
              "      <th>aged_70_older</th>\n",
              "      <th>gdp_per_capita</th>\n",
              "      <th>diabetes_prevalence</th>\n",
              "      <th>life_expectancy</th>\n",
              "    </tr>\n",
              "  </thead>\n",
              "  <tbody>\n",
              "    <tr>\n",
              "      <th>0</th>\n",
              "      <td>1.0</td>\n",
              "      <td>0.0</td>\n",
              "      <td>0.0</td>\n",
              "      <td>0.0</td>\n",
              "      <td>0.0</td>\n",
              "      <td>0.0</td>\n",
              "      <td>0.0</td>\n",
              "      <td>0.0</td>\n",
              "      <td>1.0</td>\n",
              "      <td>0.0</td>\n",
              "      <td>0.0</td>\n",
              "      <td>0.0</td>\n",
              "      <td>1.0</td>\n",
              "      <td>0.0</td>\n",
              "      <td>0.00002</td>\n",
              "      <td>0.001625</td>\n",
              "      <td>0.126530</td>\n",
              "      <td>0.000000</td>\n",
              "      <td>0.000000</td>\n",
              "      <td>0.079661</td>\n",
              "      <td>0.000490</td>\n",
              "      <td>0.011364</td>\n",
              "      <td>0.054990</td>\n",
              "      <td>0.000000</td>\n",
              "      <td>0.000000</td>\n",
              "      <td>0.045381</td>\n",
              "      <td>0.000000</td>\n",
              "      <td>0.0</td>\n",
              "      <td>1.0</td>\n",
              "      <td>1.0</td>\n",
              "      <td>0.991448</td>\n",
              "      <td>0.853271</td>\n",
              "      <td>0.52176</td>\n",
              "      <td>0.576577</td>\n",
              "      <td>0.869116</td>\n",
              "    </tr>\n",
              "    <tr>\n",
              "      <th>1</th>\n",
              "      <td>1.0</td>\n",
              "      <td>0.0</td>\n",
              "      <td>0.0</td>\n",
              "      <td>0.0</td>\n",
              "      <td>0.0</td>\n",
              "      <td>0.0</td>\n",
              "      <td>0.0</td>\n",
              "      <td>0.0</td>\n",
              "      <td>1.0</td>\n",
              "      <td>0.0</td>\n",
              "      <td>0.0</td>\n",
              "      <td>0.0</td>\n",
              "      <td>1.0</td>\n",
              "      <td>0.0</td>\n",
              "      <td>0.12764</td>\n",
              "      <td>0.114698</td>\n",
              "      <td>0.000262</td>\n",
              "      <td>0.138444</td>\n",
              "      <td>0.038946</td>\n",
              "      <td>0.000000</td>\n",
              "      <td>0.063975</td>\n",
              "      <td>0.028611</td>\n",
              "      <td>0.003169</td>\n",
              "      <td>0.090876</td>\n",
              "      <td>0.015617</td>\n",
              "      <td>0.000000</td>\n",
              "      <td>0.367313</td>\n",
              "      <td>0.0</td>\n",
              "      <td>1.0</td>\n",
              "      <td>1.0</td>\n",
              "      <td>0.991448</td>\n",
              "      <td>0.853271</td>\n",
              "      <td>0.52176</td>\n",
              "      <td>0.576577</td>\n",
              "      <td>0.869116</td>\n",
              "    </tr>\n",
              "    <tr>\n",
              "      <th>2</th>\n",
              "      <td>1.0</td>\n",
              "      <td>0.0</td>\n",
              "      <td>0.0</td>\n",
              "      <td>0.0</td>\n",
              "      <td>0.0</td>\n",
              "      <td>0.0</td>\n",
              "      <td>0.0</td>\n",
              "      <td>0.0</td>\n",
              "      <td>1.0</td>\n",
              "      <td>0.0</td>\n",
              "      <td>0.0</td>\n",
              "      <td>0.0</td>\n",
              "      <td>1.0</td>\n",
              "      <td>0.0</td>\n",
              "      <td>0.00004</td>\n",
              "      <td>0.001625</td>\n",
              "      <td>0.000262</td>\n",
              "      <td>0.000000</td>\n",
              "      <td>0.000000</td>\n",
              "      <td>0.000000</td>\n",
              "      <td>0.000981</td>\n",
              "      <td>0.011364</td>\n",
              "      <td>0.003169</td>\n",
              "      <td>0.000000</td>\n",
              "      <td>0.000000</td>\n",
              "      <td>0.000000</td>\n",
              "      <td>0.367313</td>\n",
              "      <td>0.0</td>\n",
              "      <td>1.0</td>\n",
              "      <td>1.0</td>\n",
              "      <td>0.991448</td>\n",
              "      <td>0.853271</td>\n",
              "      <td>0.52176</td>\n",
              "      <td>0.576577</td>\n",
              "      <td>0.869116</td>\n",
              "    </tr>\n",
              "    <tr>\n",
              "      <th>3</th>\n",
              "      <td>1.0</td>\n",
              "      <td>0.0</td>\n",
              "      <td>0.0</td>\n",
              "      <td>0.0</td>\n",
              "      <td>0.0</td>\n",
              "      <td>0.0</td>\n",
              "      <td>0.0</td>\n",
              "      <td>0.0</td>\n",
              "      <td>1.0</td>\n",
              "      <td>0.0</td>\n",
              "      <td>0.0</td>\n",
              "      <td>0.0</td>\n",
              "      <td>1.0</td>\n",
              "      <td>0.0</td>\n",
              "      <td>0.12764</td>\n",
              "      <td>0.114698</td>\n",
              "      <td>0.000262</td>\n",
              "      <td>0.138444</td>\n",
              "      <td>0.038946</td>\n",
              "      <td>0.000000</td>\n",
              "      <td>0.063975</td>\n",
              "      <td>0.028611</td>\n",
              "      <td>0.003169</td>\n",
              "      <td>0.090876</td>\n",
              "      <td>0.015617</td>\n",
              "      <td>0.000000</td>\n",
              "      <td>0.489751</td>\n",
              "      <td>0.0</td>\n",
              "      <td>1.0</td>\n",
              "      <td>1.0</td>\n",
              "      <td>0.991448</td>\n",
              "      <td>0.853271</td>\n",
              "      <td>0.52176</td>\n",
              "      <td>0.576577</td>\n",
              "      <td>0.869116</td>\n",
              "    </tr>\n",
              "    <tr>\n",
              "      <th>4</th>\n",
              "      <td>1.0</td>\n",
              "      <td>0.0</td>\n",
              "      <td>0.0</td>\n",
              "      <td>0.0</td>\n",
              "      <td>0.0</td>\n",
              "      <td>0.0</td>\n",
              "      <td>0.0</td>\n",
              "      <td>0.0</td>\n",
              "      <td>1.0</td>\n",
              "      <td>0.0</td>\n",
              "      <td>0.0</td>\n",
              "      <td>0.0</td>\n",
              "      <td>1.0</td>\n",
              "      <td>0.0</td>\n",
              "      <td>0.12764</td>\n",
              "      <td>0.114698</td>\n",
              "      <td>0.000262</td>\n",
              "      <td>0.138444</td>\n",
              "      <td>0.038946</td>\n",
              "      <td>0.000000</td>\n",
              "      <td>0.063975</td>\n",
              "      <td>0.028611</td>\n",
              "      <td>0.003169</td>\n",
              "      <td>0.090876</td>\n",
              "      <td>0.015617</td>\n",
              "      <td>0.000000</td>\n",
              "      <td>0.489751</td>\n",
              "      <td>0.0</td>\n",
              "      <td>1.0</td>\n",
              "      <td>1.0</td>\n",
              "      <td>0.991448</td>\n",
              "      <td>0.853271</td>\n",
              "      <td>0.52176</td>\n",
              "      <td>0.576577</td>\n",
              "      <td>0.869116</td>\n",
              "    </tr>\n",
              "  </tbody>\n",
              "</table>\n",
              "</div>"
            ],
            "text/plain": [
              "   iso_code_ABW  iso_code_AFG  ...  diabetes_prevalence  life_expectancy\n",
              "0           1.0           0.0  ...             0.576577         0.869116\n",
              "1           1.0           0.0  ...             0.576577         0.869116\n",
              "2           1.0           0.0  ...             0.576577         0.869116\n",
              "3           1.0           0.0  ...             0.576577         0.869116\n",
              "4           1.0           0.0  ...             0.576577         0.869116\n",
              "\n",
              "[5 rows x 35 columns]"
            ]
          },
          "metadata": {
            "tags": []
          },
          "execution_count": 25
        }
      ]
    },
    {
      "cell_type": "code",
      "metadata": {
        "id": "GC-K4CsE6YHa"
      },
      "source": [
        "def train_test_split(s_dataset):\n",
        "    k=int(len(s_dataset.index)*0.8)\n",
        "    training_data = s_dataset.iloc[:k].reset_index(drop=True)\n",
        "    testing_data = s_dataset.iloc[k:].reset_index(drop=True)\n",
        "    return training_data,testing_data"
      ],
      "execution_count": 26,
      "outputs": []
    },
    {
      "cell_type": "code",
      "metadata": {
        "id": "bCFg50GQ7jdF"
      },
      "source": [
        "#random shuffle\n",
        "dataset = dataset.sample(frac = 1, random_state = 0).reset_index(drop = True)\n",
        "training_data,testing_data = train_test_split(dataset)\n",
        "#training_data.head()"
      ],
      "execution_count": 27,
      "outputs": []
    },
    {
      "cell_type": "code",
      "metadata": {
        "id": "gZSExDkGDgl7"
      },
      "source": [
        "def k_fold_validation(training_data,k):\n",
        "    train_list = list()\n",
        "    validation_list = list()\n",
        "    l = len(training_data.index)\n",
        "    fold = int(l/k)\n",
        "    for i in range(k):\n",
        "      validation_list.append(training_data.iloc[i*fold:(i+1)*int(l/k)].reset_index(drop = True))\n",
        "      train_copy = copy.deepcopy(training_data)\n",
        "      train_list.append(train_copy.drop(train_copy.index[i*fold:(i+1)*int(l/k)]).reset_index(drop = True))\n",
        "    return train_list,validation_list"
      ],
      "execution_count": 28,
      "outputs": []
    },
    {
      "cell_type": "code",
      "metadata": {
        "id": "TwgYiWkVKD_i"
      },
      "source": [
        "train_list,validation_list=k_fold_validation(training_data,5)\n",
        "#print(train_list)\n",
        "#print('allo allo')\n",
        "#print(validation_list)"
      ],
      "execution_count": 29,
      "outputs": []
    },
    {
      "cell_type": "code",
      "metadata": {
        "id": "ROQJ1H-YHTMD"
      },
      "source": [
        "def summary_util(train_data):\n",
        "    result = list()\n",
        "    attributes = train_data.columns\n",
        "    for attribute in attributes:\n",
        "      if (attribute != 'life_expectancy'):\n",
        "        result.append([train_data[attribute].mean(), train_data[attribute].std()])\n",
        "    return result\n",
        "\n",
        "def summary(train_data):\n",
        "    l = len(train_data.index)\n",
        "    result = {}\n",
        "    classes = train_data['life_expectancy'].unique()\n",
        "    freq = train_data['life_expectancy'].value_counts()\n",
        "    prior_probs = {}\n",
        "    for label in classes:\n",
        "        prior_probs[label] = freq[label]/l;\n",
        "        result[label] = summary_util(train_data[train_data['life_expectancy'] == label])\n",
        "    return result,prior_probs\n",
        "\n",
        "def gaussian(x, mean, stdev):\n",
        "    if stdev == 0:\n",
        "      return float(x == mean)\n",
        "    exponent = exp(-((x-mean)**2 / (2 * stdev**2 )))\n",
        "    return (1 / (sqrt(2 * pi) * stdev)) * exponent  "
      ],
      "execution_count": 30,
      "outputs": []
    },
    {
      "cell_type": "code",
      "metadata": {
        "id": "xAx4zUg2uuMj"
      },
      "source": [
        "def probability(row,summ_by_class):\n",
        "  prob = 1\n",
        "  i = 0\n",
        "  for item in row.index:\n",
        "    if(item != 'life_expectancy'):\n",
        "      prob *= gaussian(row[item],summ_by_class[i][0],summ_by_class[i][1])\n",
        "      i += 1      \n",
        "  return prob"
      ],
      "execution_count": 31,
      "outputs": []
    },
    {
      "cell_type": "code",
      "metadata": {
        "id": "kEmNW392lYXf"
      },
      "source": [
        "def test(train_data,test_data):\n",
        "  sep_class,prior_probs=summary(train_data)\n",
        "  predicted_class=[]\n",
        "  for i,row in test_data.iterrows():\n",
        "    prob_by_class={}   \n",
        "    #print(row)\n",
        "    for item in sep_class:      \n",
        "      prob_by_class[item]=probability(row,sep_class[item])*prior_probs[item]\n",
        "    predicted_class.append(max(prob_by_class, key=prob_by_class.get))\n",
        "  return predicted_class"
      ],
      "execution_count": 32,
      "outputs": []
    },
    {
      "cell_type": "code",
      "metadata": {
        "id": "6rvVmY873EK3"
      },
      "source": [
        "def accuracy(train_data,test_data):\n",
        "  predicted_classes = test(train_data,test_data)\n",
        "  correct = 0\n",
        "  for i in range(len(predicted_classes)):\n",
        "    if predicted_classes[i] == test_data['life_expectancy'][i]:\n",
        "      correct += 1\n",
        "  return 100*correct/len(predicted_classes)"
      ],
      "execution_count": 33,
      "outputs": []
    },
    {
      "cell_type": "code",
      "metadata": {
        "id": "I141mTs8xuJx",
        "outputId": "06179694-4eca-4cd1-e2ac-bc03592f9c4a",
        "colab": {
          "base_uri": "https://localhost:8080/"
        }
      },
      "source": [
        "for i in range(5):\n",
        "  print('validation-accuracy for set'+ str(i+1)+': '+str(accuracy(train_list[i],validation_list[i])))\n",
        "print('test-accuracy: '+str(accuracy(training_data,testing_data)))"
      ],
      "execution_count": 34,
      "outputs": [
        {
          "output_type": "stream",
          "text": [
            "validation-accuracy for set1: 100.0\n",
            "validation-accuracy for set2: 100.0\n",
            "validation-accuracy for set3: 100.0\n",
            "validation-accuracy for set4: 100.0\n",
            "validation-accuracy for set5: 100.0\n",
            "test-accuracy: 100.0\n"
          ],
          "name": "stdout"
        }
      ]
    },
    {
      "cell_type": "code",
      "metadata": {
        "id": "lS7XN72uZhZD",
        "outputId": "9f4aec29-9ef9-4c62-c65b-50cb6ce7b677",
        "colab": {
          "base_uri": "https://localhost:8080/",
          "height": 758
        }
      },
      "source": [
        "#pca stuff...\n",
        "dataset_X = copy.deepcopy(dataset)\n",
        "dataset_X = dataset_X.drop(['life_expectancy'], axis = 1)\n",
        "dataset_Y = copy.deepcopy(dataset)\n",
        "dataset_Y = dataset_Y['life_expectancy']\n",
        "\n",
        "pc_columns = ['PC1', 'PC2', 'PC3', 'PC4', 'PC5', 'PC6', 'PC7', 'PC8', 'PC9', 'PC10', 'PC11', 'PC12', 'PC13', 'PC14', 'PC15', 'PC16', 'PC17', 'PC18', 'PC19', 'PC20', 'PC21', 'PC22', 'PC23', 'PC24', 'PC25', 'PC26', 'PC27', 'PC28', 'PC29', 'PC30', 'PC31', 'PC32', 'PC33', 'PC34']\n",
        "\n",
        "pca = decomposition.PCA()\n",
        "pc = pca.fit_transform(dataset_X)\n",
        "\n",
        "pc_df = pd.DataFrame(data = pc, columns = pc_columns)\n",
        "pc_df['life_expectancy'] = dataset_Y\n",
        "#pc_df.head()\n",
        "\n",
        "#print(pca.explained_variance_ratio_)\n",
        "\n",
        "fig = plt.figure(figsize = (20,10))\n",
        "ax = fig.add_axes([0,0,1,1])\n",
        "ax.bar(pc_columns, pca.explained_variance_ratio_)\n",
        "plt.show()\n",
        "\n",
        "i = 0\n",
        "var = 0\n",
        "while (var<0.95):\n",
        "  var += pca.explained_variance_ratio_[i]\n",
        "  i += 1\n",
        "print(\"The number of components to be used is \" + str(i))\n",
        "\n"
      ],
      "execution_count": 35,
      "outputs": [
        {
          "output_type": "display_data",
          "data": {
            "image/png": "[encoded data removed]",
            "text/plain": [
              "<Figure size 1440x720 with 1 Axes>"
            ]
          },
          "metadata": {
            "tags": [],
            "needs_background": "light"
          }
        },
        {
          "output_type": "stream",
          "text": [
            "The number of components to be used is 5\n"
          ],
          "name": "stdout"
        }
      ]
    },
    {
      "cell_type": "code",
      "metadata": {
        "id": "espgl-1fNOn3",
        "outputId": "7df24b58-bb50-4a86-cd5f-6bd96b00f142",
        "colab": {
          "base_uri": "https://localhost:8080/"
        }
      },
      "source": [
        "pc_df = pc_df[['PC1', 'PC2', 'PC3', 'PC4', 'PC5', 'life_expectancy']]\n",
        "#pc_df.head()\n",
        "pc_df = pc_df.sample(frac = 1, random_state = 0).reset_index(drop = True)\n",
        "pc_training_data,pc_testing_data = train_test_split(pc_df)\n",
        "pc_train_list,pc_validation_list=k_fold_validation(pc_training_data,5)\n",
        "for i in range(5):\n",
        "  print('pc_validation-accuracy for set'+ str(i+1)+': '+str(accuracy(pc_train_list[i],pc_validation_list[i])))\n",
        "print('pc_test-accuracy: '+str(accuracy(pc_training_data,pc_testing_data)))"
      ],
      "execution_count": 36,
      "outputs": [
        {
          "output_type": "stream",
          "text": [
            "pc_validation-accuracy for set1: 100.0\n",
            "pc_validation-accuracy for set2: 100.0\n",
            "pc_validation-accuracy for set3: 100.0\n",
            "pc_validation-accuracy for set4: 100.0\n",
            "pc_validation-accuracy for set5: 100.0\n",
            "pc_test-accuracy: 100.0\n"
          ],
          "name": "stdout"
        }
      ]
    }
  ]
}