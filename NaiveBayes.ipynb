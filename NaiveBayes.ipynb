{
  "nbformat": 4,
  "nbformat_minor": 0,
  "metadata": {
    "colab": {
      "name": "NaiveBayes.ipynb",
      "provenance": [],
      "collapsed_sections": []
    },
    "kernelspec": {
      "name": "python3",
      "display_name": "Python 3"
    }
  },
  "cells": [
    {
      "cell_type": "code",
      "metadata": {
        "id": "rvENABU-ZmOZ"
      },
      "source": [
        "import numpy as np\n",
        "import pandas as pd\n",
        "import csv\n",
        "import copy\n",
        "from pprint import pprint\n",
        "from math import *\n",
        "import matplotlib.pyplot as plt\n",
        "from sklearn import decomposition\n",
        "from sklearn import preprocessing"
      ],
      "execution_count": 1,
      "outputs": []
    },
    {
      "cell_type": "code",
      "metadata": {
        "id": "VsOQfuT1O6qx"
      },
      "source": [
        "#Importing dataset\n",
        "dataset = pd.read_csv('Train_E.csv')\n",
        "\n",
        "#Handling missing values...\n",
        "dataset = dataset.fillna(dataset.mean())\n",
        "\n",
        "#Dropping date...\n",
        "dataset = dataset.drop(['date'], axis = 1)\n",
        "\n",
        "#One Hot Encoding for categorical columns (iso_code, continent, location)...\n",
        "dummy_iso_code = pd.get_dummies(dataset['iso_code'], prefix = \"iso_code\")\n",
        "dummy_continent = pd.get_dummies(dataset['continent'], prefix = \"continent\")\n",
        "dummy_location = pd.get_dummies(dataset['location'], prefix = \"location\")\n",
        "dataset = pd.concat([dummy_location, dataset], axis = 1)\n",
        "dataset = pd.concat([dummy_continent, dataset], axis = 1)\n",
        "dataset = pd.concat([dummy_iso_code, dataset], axis = 1)\n",
        "dataset = dataset.drop(['iso_code', 'continent', 'location'], axis = 1)"
      ],
      "execution_count": 2,
      "outputs": []
    },
    {
      "cell_type": "code",
      "metadata": {
        "id": "GC-K4CsE6YHa"
      },
      "source": [
        "#splits dataset into train, test in ratio 80:20 and does normalization on data\n",
        "def train_test_split(s_dataset):\n",
        "    features = s_dataset.columns\n",
        "    k = int(len(s_dataset.index)*0.8)\n",
        "    training_data = s_dataset.iloc[:k].reset_index(drop=True)\n",
        "    testing_data = s_dataset.iloc[k:].reset_index(drop=True)\n",
        "    scalar = preprocessing.StandardScaler()\n",
        "    training_data = scalar.fit_transform(training_data)\n",
        "    testing_data = scalar.transform(testing_data)\n",
        "    return pd.DataFrame(data = training_data, columns = features), pd.DataFrame(data = testing_data, columns = features)"
      ],
      "execution_count": 3,
      "outputs": []
    },
    {
      "cell_type": "code",
      "metadata": {
        "id": "bCFg50GQ7jdF"
      },
      "source": [
        "#random shuffle and splitting data into train, test\n",
        "dataset = dataset.sample(frac = 1, random_state = 0).reset_index(drop = True)\n",
        "training_data,testing_data = train_test_split(dataset)"
      ],
      "execution_count": 4,
      "outputs": []
    },
    {
      "cell_type": "code",
      "metadata": {
        "id": "gZSExDkGDgl7"
      },
      "source": [
        "#makes validation, train sets for k fold cross validation\n",
        "def k_fold_validation(training_data,k):\n",
        "    train_list = list()\n",
        "    validation_list = list()\n",
        "    l = len(training_data.index)\n",
        "    fold = int(l/k)\n",
        "    for i in range(k):\n",
        "      validation_list.append(training_data.iloc[i*fold:(i+1)*int(l/k)].reset_index(drop = True))\n",
        "      train_copy = copy.deepcopy(training_data)\n",
        "      train_list.append(train_copy.drop(train_copy.index[i*fold:(i+1)*int(l/k)]).reset_index(drop = True))\n",
        "    return train_list,validation_list"
      ],
      "execution_count": 5,
      "outputs": []
    },
    {
      "cell_type": "code",
      "metadata": {
        "id": "TwgYiWkVKD_i"
      },
      "source": [
        "train_list,validation_list = k_fold_validation(training_data,5)"
      ],
      "execution_count": 6,
      "outputs": []
    },
    {
      "cell_type": "code",
      "metadata": {
        "id": "ROQJ1H-YHTMD"
      },
      "source": [
        "def summary_util(train_data):\n",
        "    result = list()\n",
        "    attributes = train_data.columns\n",
        "    for attribute in attributes:\n",
        "      if (attribute != 'life_expectancy'):\n",
        "        result.append([train_data[attribute].mean(), train_data[attribute].std()])\n",
        "    return result\n",
        "\n",
        "def summary(train_data):\n",
        "    l = len(train_data.index)\n",
        "    result = {}\n",
        "    classes = train_data['life_expectancy'].unique()\n",
        "    freq = train_data['life_expectancy'].value_counts()\n",
        "    prior_probs = {}\n",
        "    for label in classes:\n",
        "        prior_probs[label] = freq[label]/l;\n",
        "        result[label] = summary_util(train_data[train_data['life_expectancy'] == label])\n",
        "    return result,prior_probs\n",
        "\n",
        "def gaussian(x, mean, stdev):\n",
        "    if stdev == 0:\n",
        "      return float(x == mean)\n",
        "    exponent = exp(-((x-mean)**2 / (2 * stdev**2 )))\n",
        "    return (1 / (sqrt(2 * pi) * stdev)) * exponent  "
      ],
      "execution_count": 7,
      "outputs": []
    },
    {
      "cell_type": "code",
      "metadata": {
        "id": "xAx4zUg2uuMj"
      },
      "source": [
        "def probability(row,summ_by_class,freq):\n",
        "  prob = 1.0\n",
        "  i = 0\n",
        "  for item in row.index:\n",
        "    if(item != 'life_expectancy'):\n",
        "      p=gaussian(row[item],summ_by_class[i][0],summ_by_class[i][1])\n",
        "      if p==0:\n",
        "        prob *=float(1.0/freq) #laplacian correction\n",
        "      else:\n",
        "        prob*=p\n",
        "      i += 1      \n",
        "  return prob"
      ],
      "execution_count": 8,
      "outputs": []
    },
    {
      "cell_type": "code",
      "metadata": {
        "id": "kEmNW392lYXf"
      },
      "source": [
        "def test(train_data,test_data):\n",
        "  sep_class,prior_probs=summary(train_data)\n",
        "  predicted_class=[]\n",
        "  freq = train_data['life_expectancy'].value_counts()\n",
        "  for i,row in test_data.iterrows():\n",
        "    prob_by_class={}   \n",
        "    #print(row)\n",
        "    for item in sep_class:      \n",
        "      prob_by_class[item]=probability(row,sep_class[item],freq[item])*prior_probs[item]\n",
        "    predicted_class.append(max(prob_by_class, key=prob_by_class.get))\n",
        "  return predicted_class"
      ],
      "execution_count": 9,
      "outputs": []
    },
    {
      "cell_type": "code",
      "metadata": {
        "id": "6rvVmY873EK3"
      },
      "source": [
        "def accuracy(train_data,test_data):\n",
        "  predicted_classes = test(train_data,test_data)\n",
        "  correct = 0\n",
        "  for i in range(len(predicted_classes)):\n",
        "    if predicted_classes[i] == test_data['life_expectancy'][i]:\n",
        "      correct += 1\n",
        "  return 100*correct/len(predicted_classes)"
      ],
      "execution_count": 10,
      "outputs": []
    },
    {
      "cell_type": "code",
      "metadata": {
        "id": "I141mTs8xuJx",
        "outputId": "0c964e69-1f23-4e8d-bdf2-e5621ccdca2c",
        "colab": {
          "base_uri": "https://localhost:8080/"
        }
      },
      "source": [
        "for i in range(5):\n",
        "  print('validation-accuracy for set'+ str(i+1)+': '+str(accuracy(train_list[i],validation_list[i])))\n",
        "print('test-accuracy: '+str(accuracy(train_list[0],testing_data))) # any of the 5 may be used as all give 100% accuracy on validation set."
      ],
      "execution_count": 11,
      "outputs": [
        {
          "output_type": "stream",
          "text": [
            "validation-accuracy for set1: 100.0\n",
            "validation-accuracy for set2: 100.0\n",
            "validation-accuracy for set3: 100.0\n",
            "validation-accuracy for set4: 100.0\n",
            "validation-accuracy for set5: 100.0\n",
            "test-accuracy: 100.0\n"
          ],
          "name": "stdout"
        }
      ]
    },
    {
      "cell_type": "code",
      "metadata": {
        "id": "lS7XN72uZhZD",
        "outputId": "40a2dc7b-5f7c-4ef0-80d3-84f161bfedd3",
        "colab": {
          "base_uri": "https://localhost:8080/",
          "height": 758
        }
      },
      "source": [
        "#Applying PCA on processed data after normalization\n",
        "dataset = dataset.sample(frac = 1, random_state = 0).reset_index(drop = True)\n",
        "training_pca,testing_pca = train_test_split(dataset)\n",
        "\n",
        "train_X = copy.deepcopy(training_pca)\n",
        "train_X = train_X.drop(['life_expectancy'], axis = 1)\n",
        "train_Y = copy.deepcopy(training_pca)\n",
        "train_Y = train_Y['life_expectancy']\n",
        "test_X = copy.deepcopy(testing_pca)\n",
        "test_X = test_X.drop(['life_expectancy'], axis = 1)\n",
        "test_Y = copy.deepcopy(testing_pca)\n",
        "test_Y = test_Y['life_expectancy']\n",
        "\n",
        "pc_columns = ['PC1', 'PC2', 'PC3', 'PC4', 'PC5', 'PC6', 'PC7', 'PC8', 'PC9', 'PC10', 'PC11', 'PC12', 'PC13', 'PC14', 'PC15', 'PC16', 'PC17',\n",
        "              'PC18', 'PC19', 'PC20', 'PC21', 'PC22', 'PC23', 'PC24', 'PC25', 'PC26', 'PC27', 'PC28', 'PC29', 'PC30', 'PC31', 'PC32', 'PC33', 'PC34']\n",
        "\n",
        "pca = decomposition.PCA()\n",
        "pc = pca.fit_transform(train_X)\n",
        "\n",
        "test_X = pca.transform(test_X)\n",
        "\n",
        "pc_df_train = pd.DataFrame(data = pc, columns = pc_columns)\n",
        "pc_df_train['life_expectancy'] = train_Y\n",
        "pc_df_test = pd.DataFrame(data = test_X, columns = pc_columns)\n",
        "pc_df_test['life_expectancy'] = test_Y\n",
        "\n",
        "#print(pca.explained_variance_ratio_)\n",
        "\n",
        "fig = plt.figure(figsize = (20,10))\n",
        "ax = fig.add_axes([0,0,1,1])\n",
        "ax.bar(pc_columns, pca.explained_variance_ratio_)\n",
        "plt.show()\n",
        "\n",
        "i = 0\n",
        "var = 0\n",
        "while (var<0.95):\n",
        "  var += pca.explained_variance_ratio_[i]\n",
        "  i += 1\n",
        "print(\"The number of components to be used is \" + str(i))\n",
        "\n"
      ],
      "execution_count": 12,
      "outputs": [
        {
          "output_type": "display_data",
          "data": {
            "image/png": "[encoded data removed]",
            "text/plain": [
              "<Figure size 1440x720 with 1 Axes>"
            ]
          },
          "metadata": {
            "tags": [],
            "needs_background": "light"
          }
        },
        {
          "output_type": "stream",
          "text": [
            "The number of components to be used is 9\n"
          ],
          "name": "stdout"
        }
      ]
    },
    {
      "cell_type": "code",
      "metadata": {
        "id": "espgl-1fNOn3",
        "outputId": "9e568a92-f20e-4608-bf00-5d3252883c8d",
        "colab": {
          "base_uri": "https://localhost:8080/"
        }
      },
      "source": [
        "#Performing 5-fold cross validation on the new dataset obtained after performing PCA\n",
        "pc_df_train = pc_df_train[['PC1', 'PC2', 'PC3', 'PC4', 'PC5', 'PC6', 'PC7', 'PC8', 'PC9', 'life_expectancy']]\n",
        "pc_df_test = pc_df_test[['PC1', 'PC2', 'PC3', 'PC4', 'PC5', 'PC6', 'PC7', 'PC8', 'PC9', 'life_expectancy']]\n",
        "pc_train_list,pc_validation_list = k_fold_validation(pc_df_train,5)\n",
        "for i in range(5):\n",
        "  print('pc_validation-accuracy for set'+ str(i+1)+': '+str(accuracy(pc_train_list[i],pc_validation_list[i])))\n",
        "print('pc_test-accuracy: '+str(accuracy(pc_train_list[0],pc_df_test))) # 0,2,3,4 may be used as they give highest accuracy on validation data"
      ],
      "execution_count": 13,
      "outputs": [
        {
          "output_type": "stream",
          "text": [
            "pc_validation-accuracy for set1: 100.0\n",
            "pc_validation-accuracy for set2: 98.93617021276596\n",
            "pc_validation-accuracy for set3: 100.0\n",
            "pc_validation-accuracy for set4: 100.0\n",
            "pc_validation-accuracy for set5: 100.0\n",
            "pc_test-accuracy: 100.0\n"
          ],
          "name": "stdout"
        }
      ]
    },
    {
      "cell_type": "code",
      "metadata": {
        "id": "H1iwrP_fqfYO",
        "outputId": "aa6107e9-a9a7-49eb-94e4-27a4a1935615",
        "colab": {
          "base_uri": "https://localhost:8080/"
        }
      },
      "source": [
        "#Removing Outliers in Dataset\n",
        "training_data,testing_data = train_test_split(dataset) #splitting is done so as to normalize the data. (the procedure for normalization is included in train_test_split)\n",
        "features = ['total_cases', 'new_cases', 'new_cases_smoothed', 'total_deaths', 'new_deaths', 'new_deaths_smoothed', 'total_cases_per_million',\n",
        "       'new_cases_per_million', 'new_cases_smoothed_per_million', 'total_deaths_per_million', 'new_deaths_per_million', 'new_deaths_smoothed_per_million', 'stringency_index', 'population',\n",
        "       'population_density', 'median_age', 'aged_65_older', 'aged_70_older', 'gdp_per_capita', 'diabetes_prevalence']\n",
        "mean = []\n",
        "stddev = []\n",
        "for col in features:\n",
        "  mean.append(pd.concat([training_data, testing_data])[col].mean())\n",
        "  stddev.append(pd.concat([training_data, testing_data])[col].std())\n",
        "new_train = pd.DataFrame(columns = training_data.columns)\n",
        "for id in training_data.index:\n",
        "  i = 0\n",
        "  flag = 0\n",
        "  for col in features:\n",
        "    if (abs(training_data[col][id] - mean[i]) >3*stddev[i]):\n",
        "      flag = flag + 1\n",
        "    i = i + 1\n",
        "  if (flag <= 2):\n",
        "    new_train.loc[len(new_train)] = training_data.loc[id]\n",
        "\n",
        "new_test = pd.DataFrame(columns = testing_data.columns)\n",
        "for id in testing_data.index:\n",
        "  i = 0\n",
        "  flag = 0\n",
        "  for col in features:\n",
        "    if (abs(testing_data[col][id] - mean[i]) > 3*stddev[i]):\n",
        "      flag = flag + 1\n",
        "    i = i + 1\n",
        "  if (flag <= 2):\n",
        "    new_test.loc[len(new_test)] = testing_data.loc[id]\n",
        "\n",
        "\n",
        "train_list,validation_list = k_fold_validation(new_train,5)\n",
        "print('Number of samples removed from training data: ',len(training_data)-len(new_train))\n",
        "print('Number of samples removed from training data: ',len(testing_data)-len(new_test))"
      ],
      "execution_count": 14,
      "outputs": [
        {
          "output_type": "stream",
          "text": [
            "Number of samples removed from training data:  43\n",
            "Number of samples removed from training data:  12\n"
          ],
          "name": "stdout"
        }
      ]
    },
    {
      "cell_type": "code",
      "metadata": {
        "id": "Pud0sRd2uxN1",
        "outputId": "9a50bb18-d4e7-440c-e598-5faa71ae36ce",
        "colab": {
          "base_uri": "https://localhost:8080/"
        }
      },
      "source": [
        "#Performing Sequential Backward Selection Algorithm\n",
        "j = 0\n",
        "train_data = copy.deepcopy(train_list)\n",
        "val_data = copy.deepcopy(validation_list)\n",
        "while 1:\n",
        "  j += 1  \n",
        "  curr_acc = 0\n",
        "  for i in range(5):\n",
        "    curr_acc += accuracy(train_data[i],val_data[i])\n",
        "  curr_acc /= 5\n",
        "  print('Dropping feature no.'+str(j),end=' ')\n",
        "  col_kick = None\n",
        "  for column in train_data[0]:\n",
        "    print('.',end = '')\n",
        "    if column == 'life_expectancy':\n",
        "      continue\n",
        "    temp_acc = 0\n",
        "    for i in range(5):\n",
        "      temp_train = copy.deepcopy(train_data[i])\n",
        "      temp_test = copy.deepcopy(val_data[i])\n",
        "      temp_train = temp_train.drop([column],axis=1)\n",
        "      temp_test = temp_test.drop([column],axis=1)\n",
        "      temp_acc += accuracy(temp_train,temp_test)\n",
        "    if temp_acc/5 >= curr_acc:\n",
        "      curr_acc = temp_acc\n",
        "      col_kick = column\n",
        "  if col_kick != None:\n",
        "    print(\"\\nDropped: \"+col_kick,end='\\n\\n')\n",
        "    for i in range(5):\n",
        "      train_data[i] = train_data[i].drop([col_kick],axis=1)\n",
        "      val_data[i] = val_data[i].drop([col_kick],axis=1)\n",
        "  else:\n",
        "    break"
      ],
      "execution_count": 15,
      "outputs": [
        {
          "output_type": "stream",
          "text": [
            "Dropping feature no.1 ...................................\n",
            "Dropped: iso_code_ABW\n",
            "\n",
            "Dropping feature no.2 ..................................\n",
            "Dropped: iso_code_AFG\n",
            "\n",
            "Dropping feature no.3 .................................\n",
            "Dropped: iso_code_AGO\n",
            "\n",
            "Dropping feature no.4 ................................\n",
            "Dropped: iso_code_ALB\n",
            "\n",
            "Dropping feature no.5 ...............................\n",
            "Dropped: iso_code_ARE\n",
            "\n",
            "Dropping feature no.6 ..............................\n",
            "Dropped: continent_Africa\n",
            "\n",
            "Dropping feature no.7 .............................\n",
            "Dropped: continent_Asia\n",
            "\n",
            "Dropping feature no.8 ............................\n",
            "Dropped: continent_Europe\n",
            "\n",
            "Dropping feature no.9 ...........................\n",
            "Dropped: continent_North America\n",
            "\n",
            "Dropping feature no.10 ..........................\n",
            "Dropped: location_Afghanistan\n",
            "\n",
            "Dropping feature no.11 .........................\n",
            "Dropped: location_Albania\n",
            "\n",
            "Dropping feature no.12 ........................\n",
            "Dropped: location_Angola\n",
            "\n",
            "Dropping feature no.13 .......................\n",
            "Dropped: total_cases\n",
            "\n",
            "Dropping feature no.14 ......................\n",
            "Dropped: new_cases\n",
            "\n",
            "Dropping feature no.15 .....................\n",
            "Dropped: new_cases_smoothed\n",
            "\n",
            "Dropping feature no.16 ....................\n",
            "Dropped: location_United Arab Emirates\n",
            "\n",
            "Dropping feature no.17 ...................\n",
            "Dropped: total_deaths\n",
            "\n",
            "Dropping feature no.18 ..................\n",
            "Dropped: new_deaths\n",
            "\n",
            "Dropping feature no.19 .................\n",
            "Dropped: new_deaths_smoothed\n",
            "\n",
            "Dropping feature no.20 ................\n",
            "Dropped: location_Aruba\n",
            "\n",
            "Dropping feature no.21 ...............\n",
            "Dropped: total_cases_per_million\n",
            "\n",
            "Dropping feature no.22 ..............\n",
            "Dropped: new_cases_per_million\n",
            "\n",
            "Dropping feature no.23 .............\n",
            "Dropped: new_cases_smoothed_per_million\n",
            "\n",
            "Dropping feature no.24 ............\n",
            "Dropped: total_deaths_per_million\n",
            "\n",
            "Dropping feature no.25 ...........\n",
            "Dropped: new_deaths_per_million\n",
            "\n",
            "Dropping feature no.26 ..........\n",
            "Dropped: new_deaths_smoothed_per_million\n",
            "\n",
            "Dropping feature no.27 .........\n",
            "Dropped: stringency_index\n",
            "\n",
            "Dropping feature no.28 ........\n",
            "Dropped: population\n",
            "\n",
            "Dropping feature no.29 .......\n",
            "Dropped: population_density\n",
            "\n",
            "Dropping feature no.30 ......\n",
            "Dropped: median_age\n",
            "\n",
            "Dropping feature no.31 .....\n",
            "Dropped: aged_65_older\n",
            "\n",
            "Dropping feature no.32 ....\n",
            "Dropped: aged_70_older\n",
            "\n",
            "Dropping feature no.33 ...\n",
            "Dropped: gdp_per_capita\n",
            "\n",
            "Dropping feature no.34 .."
          ],
          "name": "stdout"
        }
      ]
    },
    {
      "cell_type": "code",
      "metadata": {
        "id": "Btsfn-OlfEHu",
        "outputId": "f50a5bff-4df9-4624-dbd2-b07304f1d77a",
        "colab": {
          "base_uri": "https://localhost:8080/"
        }
      },
      "source": [
        "#Printing the features remaining \n",
        "print('Features remaining:',end=' ')\n",
        "for column in train_data[0]:\n",
        "    if column=='life_expectancy':\n",
        "      continue\n",
        "    print(column,end=' ')\n",
        "    "
      ],
      "execution_count": 16,
      "outputs": [
        {
          "output_type": "stream",
          "text": [
            "Features remaining: diabetes_prevalence "
          ],
          "name": "stdout"
        }
      ]
    },
    {
      "cell_type": "code",
      "metadata": {
        "id": "lkonrTDYg5D1",
        "outputId": "5404c533-e9e2-439d-8643-b7e7e3303470",
        "colab": {
          "base_uri": "https://localhost:8080/"
        }
      },
      "source": [
        "#Performing 5-fold cross validation on the new dataset obtained after performing Sequential Backward Selection Algorithm\n",
        "dataset_SBS = copy.deepcopy(pd.concat([new_train, new_test]))\n",
        "dataset_SBS = dataset_SBS[['diabetes_prevalence', 'life_expectancy']]\n",
        "dataset_SBS = dataset_SBS.sample(frac = 1, random_state = 0).reset_index(drop = True)\n",
        "sbs_training_data,sbs_testing_data = train_test_split(dataset_SBS)\n",
        "sbs_train_list,sbs_validation_list = k_fold_validation(sbs_training_data,5)\n",
        "for i in range(5):\n",
        "  print('sbs_validation-accuracy for set'+ str(i+1)+': '+str(accuracy(sbs_train_list[i],sbs_validation_list[i])))\n",
        "print('sbs_test-accuracy: '+str(accuracy(sbs_train_list[0],sbs_testing_data))) # any of the 5 may be used as all give 100% accuracy on validation set."
      ],
      "execution_count": 17,
      "outputs": [
        {
          "output_type": "stream",
          "text": [
            "sbs_validation-accuracy for set1: 100.0\n",
            "sbs_validation-accuracy for set2: 100.0\n",
            "sbs_validation-accuracy for set3: 100.0\n",
            "sbs_validation-accuracy for set4: 100.0\n",
            "sbs_validation-accuracy for set5: 100.0\n",
            "sbs_test-accuracy: 100.0\n"
          ],
          "name": "stdout"
        }
      ]
    }
  ]
}